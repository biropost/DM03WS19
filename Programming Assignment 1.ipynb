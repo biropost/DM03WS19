{
 "cells": [
  {
   "cell_type": "markdown",
   "metadata": {
    "colab_type": "text",
    "id": "XVy4x2F450et"
   },
   "source": [
    "# Clustering High Dimensional Data"
   ]
  },
  {
   "cell_type": "markdown",
   "metadata": {
    "colab_type": "text",
    "id": "1WZ4b-EH6XBr"
   },
   "source": [
    "Team members:\n",
    "\n",
    "\\begin{itemize}\n",
    "    \\item Frick Bernhard (a01505541@unet.univie.ac.at)\n",
    "    \\item Postlmayr Billie Rosalie (a01307120@unet.univie.ac.at)\n",
    "\\end{itemize}\n",
    "\n",
    "Former team members that opted out of the course:\n",
    "\n",
    "\\begin{itemize}\n",
    "    \\item Decsi István (a11834026@unet.univie.ac.at)\n",
    "    \\item Krivanek Yvonne-Nadine (a01404589@unet.univie.ac.at)\n",
    "\\end{itemize}"
   ]
  },
  {
   "cell_type": "markdown",
   "metadata": {
    "colab_type": "text",
    "id": "r1wmAmyw8IXj"
   },
   "source": [
    "## Assignment\n",
    "\n",
    "Implement one of the given algorithms and compare your results with the algorithms implemented in \"Environment for DeveLoping KDD-Applications supported by Index-Structures\" (ELKI) (see [Moodle](https://moodle.univie.ac.at/pluginfile.php/8780688/mod_resource/content/0/assignment1.pdf))."
   ]
  },
  {
   "cell_type": "markdown",
   "metadata": {
    "colab_type": "text",
    "id": "jGB_C5EM760i"
   },
   "source": [
    "## What we chose and why\n",
    "\n",
    "We chose to implement the axis-parallel subspace clustering algorithm \"subspace PREference weighted DEnsity CONnected clustering\", PreDeCon for short, because it seems to be an interesting approach of combining different preexisting techniques that performs a lot better than other approaches when it comes to high dimensional data."
   ]
  },
  {
   "cell_type": "markdown",
   "metadata": {
    "colab_type": "text",
    "id": "L0Fv3ZI86kUT"
   },
   "source": [
    "## How PreDeCon works\n",
    "\n",
    "PreDeCon is an instance-based top-down approach, which means it starts out with the full dimensional dataset but choses to evaluate those on an instance based iteration. This kind of iteration puts a higher priority on some individually chosen dimensions.\n",
    "\n",
    "Analogously to projected clustering which was introduced to enhance the quality of k-means like clustering algorithms in high-dimensional space, PreDeCon extends the well-founded notion of density connected clusters by incorporating subspace dimensionality preferences to ensure high quality results even in high-dimensional spaces.\n",
    "\n",
    "PreDeCon does not use any sampling or approximation techniques, thus the result is determinate. It is also able to compute all subspace preference clusters of a certain dimensionality in a single scan over the database and is linear in the number of dimensions.\n",
    "\n",
    "The paper where this algorithm is introduced and explained can be found here: http://citeseerx.ist.psu.edu/viewdoc/download?doi=10.1.1.68.5825&rep=rep1&type=pdf.\n",
    "\n",
    "PreDeCon is configurable with five parameters:\n",
    "\n",
    "\\begin{itemize}\n",
    "\\item $\\epsilon$ - The maximum distance that limits the epsilon-neighborhood of a point (real number)\n",
    "\\item $\\mu$ - The minimum number of points in an epsilon neighborhood for a point to be considered a core point (natural number)\n",
    "\\item $\\lambda$ - The maximum dimensionality of the searched clusters (natural number)\n",
    "\\item $\\delta$ - The threshold for small eigenvalues (real number)\n",
    "\\item $\\kappa$ - The penalty factor for deviations in preferred dimensions (real number)\n",
    "\\end{itemize}"
   ]
  },
  {
   "cell_type": "markdown",
   "metadata": {
    "colab_type": "text",
    "id": "omnf2voE7o2M"
   },
   "source": [
    "## Pseudocode\n",
    "\n",
    "Below is the concept of how our implementation works.\n",
    "\n",
    "```python\n",
    "PreDeCon:\n",
    "for Point in Data[]:\n",
    "    if Point is \"unassigned\" or \"noise\"\n",
    "        get Npref[] and Pdim\n",
    "        if CORE(Npref,Pdim):\n",
    "            get unique ID\n",
    "            while Npref[] is not empty:\n",
    "                PointNpref = Npref.pop()\n",
    "                get Reachable[] from PointNpref\n",
    "                for PointReachable in Reachable[]:\n",
    "                    if PointReachable is \"unassigned\":\n",
    "                        add PointReachable to Npref[]\n",
    "                    if PointReachable is \"unassigned\" or \"noise\":\n",
    "                        PointReachable is ID\n",
    "    else:\n",
    "        Point is \"noise\"\n",
    "```"
   ]
  },
  {
   "cell_type": "markdown",
   "metadata": {
    "colab_type": "text",
    "id": "SqIjgMaA8jZA"
   },
   "source": [
    "## Implementation\n",
    "\n",
    "The actual implementation can be found in `predecon.py`. The accompanying `script.py` file contains the code that applies our implentation to the iris test data set, plots the resulting clusters and calculates performance metrics."
   ]
  },
  {
   "cell_type": "code",
   "execution_count": 1,
   "metadata": {},
   "outputs": [],
   "source": [
    "from predecon import PreDeCon\n",
    "from scipy.io import arff\n",
    "import pandas as pd\n",
    "import time\n",
    "import numpy as np"
   ]
  },
  {
   "cell_type": "code",
   "execution_count": 2,
   "metadata": {},
   "outputs": [],
   "source": [
    "fName = 'data/iris.arff'\n",
    "tData, meta = arff.loadarff(fName)"
   ]
  },
  {
   "cell_type": "code",
   "execution_count": 3,
   "metadata": {},
   "outputs": [],
   "source": [
    "D = pd.DataFrame(data=tData)\n",
    "true_labels = D[\"class\"]\n",
    "D = D.drop(\"class\", axis=1)"
   ]
  },
  {
   "cell_type": "code",
   "execution_count": 4,
   "metadata": {},
   "outputs": [],
   "source": [
    "pdc = PreDeCon(e=2.5, m=2, l=2, d=0.05, k=100)\n",
    "clustered_labels = pdc.fit(D)"
   ]
  },
  {
   "cell_type": "code",
   "execution_count": 5,
   "metadata": {},
   "outputs": [],
   "source": [
    "unique_labels, unique_counts = np.unique(clustered_labels, return_counts=True)"
   ]
  },
  {
   "cell_type": "markdown",
   "metadata": {},
   "source": [
    "Number of clusters:"
   ]
  },
  {
   "cell_type": "code",
   "execution_count": 6,
   "metadata": {},
   "outputs": [
    {
     "data": {
      "text/plain": [
       "4"
      ]
     },
     "execution_count": 6,
     "metadata": {},
     "output_type": "execute_result"
    }
   ],
   "source": [
    "len(unique_labels)"
   ]
  },
  {
   "cell_type": "markdown",
   "metadata": {},
   "source": [
    "## Visualization\n",
    "\n",
    "The relatively simple and small iris-dataset only has 150 data points with four features each. We decided to plot all six subspaces with a dimensionality of $l=2$ to be able to get some visual understanding of the performance of the clustering algorithm."
   ]
  },
  {
   "cell_type": "code",
   "execution_count": 7,
   "metadata": {},
   "outputs": [],
   "source": [
    "import itertools\n",
    "import matplotlib.pyplot as plt"
   ]
  },
  {
   "cell_type": "code",
   "execution_count": 8,
   "metadata": {},
   "outputs": [],
   "source": [
    "# Flatten the clustered labels (contains nested arrays with 1 element each)\n",
    "clustered_labels = list(itertools.chain.from_iterable(clustered_labels))\n",
    "\n",
    "# Assign a random color to each unique cluster id\n",
    "color_map = dict(zip(unique_labels, np.random.rand(len(unique_labels), )))\n",
    "\n",
    "# map clustered_labels to colors list\n",
    "colors = list(map(color_map.get, clustered_labels))"
   ]
  },
  {
   "cell_type": "code",
   "execution_count": 17,
   "metadata": {
    "colab_type": "text",
    "id": "Bdn8YW0xHo6X",
    "scrolled": false
   },
   "outputs": [
    {
     "data": {
      "image/png": "[encoded data removed]",
      "text/plain": [
       "<Figure size 1440x1440 with 6 Axes>"
      ]
     },
     "metadata": {
      "needs_background": "light"
     },
     "output_type": "display_data"
    }
   ],
   "source": [
    "plt.rcParams[\"figure.figsize\"] = (20,20)\n",
    "\n",
    "names = meta.names()\n",
    "names.remove(\"class\")\n",
    "plt_index = 1\n",
    "for i, name in enumerate(names):\n",
    "    for j in range(i+1, len(names)):\n",
    "        x = D[names[i]]\n",
    "        y = D[names[j]]\n",
    "        plt.subplot(3, 2, plt_index)\n",
    "        plt_index = plt_index + 1\n",
    "        plt.scatter(x, y, s=100, c=colors, marker=\"+\")\n",
    "        plt.title(f\"{names[i]} / {names[j]}\")\n",
    "\n",
    "plt.show()"
   ]
  },
  {
   "cell_type": "markdown",
   "metadata": {
    "colab_type": "text",
    "id": "mj_vCAd58sTp"
   },
   "source": [
    "## Evaluation\n",
    "\n",
    "Since for the iris-dataset we used, the true labels are known, we are able to use performance evaluation methods that require knowledge of the ground truth.\n",
    "\n",
    "We did not apply performance evaluation metrics that solely rely on the model itself and do not take into acccount that we have the true labels available.\n",
    "\n",
    "To measure the performance of our implementation, we used the metrics that are provided by the python package `scikit-learn` (https://scikit-learn.org/stable/modules/clustering.html#clustering-performance-evaluation).\n",
    "\n",
    "Below follows an explanation and the results of all performance evaluation methods we applied."
   ]
  },
  {
   "cell_type": "code",
   "execution_count": 10,
   "metadata": {},
   "outputs": [],
   "source": [
    "from sklearn import metrics"
   ]
  },
  {
   "cell_type": "markdown",
   "metadata": {
    "colab_type": "text",
    "id": "wMunYPT4-rq5"
   },
   "source": [
    "### Adjusted Rand Index\n",
    "\n",
    "https://scikit-learn.org/stable/modules/clustering.html#adjusted-rand-index\n",
    "\n",
    "The adjusted Rand index is a function that measures the similarity of the two assignments, ignoring permutations and with chance normalization.\n",
    "\n",
    "Perfect labelling results in a score of 1.0, whereas a score of 0 denotes absolutely no correlation between the true and the predicted labels."
   ]
  },
  {
   "cell_type": "code",
   "execution_count": 11,
   "metadata": {},
   "outputs": [
    {
     "name": "stdout",
     "output_type": "stream",
     "text": [
      "ARI: 0.5260487245058253\n"
     ]
    }
   ],
   "source": [
    "print(\"ARI:\", metrics.adjusted_rand_score(true_labels, clustered_labels))"
   ]
  },
  {
   "cell_type": "markdown",
   "metadata": {
    "colab_type": "text",
    "id": "GRig6ncE-xBC"
   },
   "source": [
    "### Mutual Information (MI), Adjusted MI (AMI), Normalized MI (NMI)\n",
    "\n",
    "https://scikit-learn.org/stable/modules/clustering.html#mutual-information-based-scores\n",
    "\n",
    "The Mutual Information is a function that measures the agreement of the two assignments, ignoring permutations. Two different normalized versions of this measure are available, Normalized Mutual Information (NMI) and Adjusted Mutual Information (AMI). NMI is often used in the literature, while AMI was proposed more recently and is normalized against chance.\n",
    "\n",
    "Both AMI and NMI are bounded above by 1, with a higher value indicating better results. MI on the other hand is not bounded."
   ]
  },
  {
   "cell_type": "code",
   "execution_count": 12,
   "metadata": {},
   "outputs": [
    {
     "name": "stdout",
     "output_type": "stream",
     "text": [
      "AMI: 0.6149422748171449\n",
      "NMI: 0.6240123786552145\n",
      "MI: 0.5697488641022485\n"
     ]
    }
   ],
   "source": [
    "print(\"AMI:\", metrics.adjusted_mutual_info_score(true_labels, clustered_labels))\n",
    "print(\"NMI:\", metrics.normalized_mutual_info_score(true_labels, clustered_labels))\n",
    "print(\"MI:\", metrics.mutual_info_score(true_labels, clustered_labels))"
   ]
  },
  {
   "cell_type": "markdown",
   "metadata": {
    "colab_type": "text",
    "id": "8W6ha7RlCgFL"
   },
   "source": [
    "### Homogeneity, Completeness, V-Measure\n",
    "\n",
    "https://scikit-learn.org/stable/modules/clustering.html#homogeneity-completeness-and-v-measure\n",
    "\n",
    "Homogeneity: each cluster contains only members of a single class.\n",
    "\n",
    "Completeness: all members of a given class are assigned to the same cluster.\n",
    "\n",
    "Both homogeneity and completeness range from 0 to 1, with a higher value indicating better results. The harmonic mean of these two measures is called the V-Measure."
   ]
  },
  {
   "cell_type": "code",
   "execution_count": 13,
   "metadata": {},
   "outputs": [
    {
     "name": "stdout",
     "output_type": "stream",
     "text": [
      "Homogeneity: 0.5186077654319498\n",
      "Completeness: 0.7831926343408337\n",
      "V-Measure: 0.6240123786552146\n"
     ]
    }
   ],
   "source": [
    "print(\"Homogeneity:\", metrics.homogeneity_score(true_labels, clustered_labels))\n",
    "print(\"Completeness:\", metrics.completeness_score(true_labels, clustered_labels))\n",
    "print(\"V-Measure:\", metrics.v_measure_score(true_labels, clustered_labels))"
   ]
  },
  {
   "cell_type": "markdown",
   "metadata": {
    "colab_type": "text",
    "id": "1hMUru4CH7O2"
   },
   "source": [
    "## Fowlkes-Mallows Index\n",
    "\n",
    "https://scikit-learn.org/stable/modules/clustering.html#fowlkes-mallows-scores\n",
    "\n",
    "The Fowlkes-Mallows score FMI is defined as the geometric mean of the pairwise precision and recall:\n",
    "\n",
    "$$\n",
    "\\text{FMI} = \\frac{\\text{True Positives}}{\\sqrt{(\\text{True Positives} + \\text{False Positives}) \\cdot (\\text{True Positives} + \\text{False Negatives})}}\n",
    "$$\n",
    "\n",
    "The score ranges from 0 to 1, with a higher value indicating better results."
   ]
  },
  {
   "cell_type": "code",
   "execution_count": 14,
   "metadata": {},
   "outputs": [
    {
     "name": "stdout",
     "output_type": "stream",
     "text": [
      "FMI: 0.7356614739008676\n"
     ]
    }
   ],
   "source": [
    "print(\"FMI:\", metrics.fowlkes_mallows_score(true_labels, clustered_labels))"
   ]
  },
  {
   "cell_type": "markdown",
   "metadata": {
    "colab_type": "text",
    "id": "yYBWW9p5IgwH"
   },
   "source": [
    "## Evaluation Conclusion\n",
    "\n",
    "Judging from the plots of our clustering results, we were able to achieve a relatively high accuracy. There were more clusters in our result than the classes which were given in the original data set. Small clusters could be easily merged with larger, neighboring clusters based on the unique character of the domain.\n",
    "\n",
    "The following two runs on our hardware were both using the same iris data set and the following parameters:\n",
    "\n",
    "$$\n",
    "\\epsilon=2.5 \\qquad \\mu=2 \\qquad \\lambda=1 \\qquad \\delta=0.05 \\qquad \\kappa=100\n",
    "$$"
   ]
  },
  {
   "cell_type": "markdown",
   "metadata": {},
   "source": [
    "### Performance on an Apple MacBook Pro 2015, Iris Dataset\n",
    "\n",
    "Dual-Core 5th Gen Intel Core i5-5257U Processor - 2.7 / 3.1 GHz, 28W TDP\n",
    "\n",
    "```\n",
    "Runtime: 154.08 seconds\n",
    "```"
   ]
  },
  {
   "cell_type": "markdown",
   "metadata": {},
   "source": [
    "### Performance on a Razor Blade Stealth 2019, Iris Dataset\n",
    "\n",
    "Quad-Core 10th Gen Intel Core i7-1065G7 Processor - 1.3 / 3.9 GHz, 25W TDP\n",
    "\n",
    "```\n",
    "Runtime: 107.75 seconds\n",
    "```"
   ]
  }
 ],
 "metadata": {
  "colab": {
   "collapsed_sections": [],
   "name": "DM Group Assignment 1",
   "provenance": []
  },
  "kernelspec": {
   "display_name": "Python 3",
   "language": "python",
   "name": "python3"
  },
  "language_info": {
   "codemirror_mode": {
    "name": "ipython",
    "version": 3
   },
   "file_extension": ".py",
   "mimetype": "text/x-python",
   "name": "python",
   "nbconvert_exporter": "python",
   "pygments_lexer": "ipython3",
   "version": "3.7.5"
  }
 },
 "nbformat": 4,
 "nbformat_minor": 1
}
